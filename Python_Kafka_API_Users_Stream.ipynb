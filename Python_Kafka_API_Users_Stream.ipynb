{
  "nbformat": 4,
  "nbformat_minor": 0,
  "metadata": {
    "colab": {
      "name": "Python_Kafka_API_Users_Stream.ipynb",
      "provenance": []
    },
    "kernelspec": {
      "name": "python3",
      "display_name": "Python 3"
    },
    "language_info": {
      "name": "python"
    }
  },
  "cells": [
    {
      "cell_type": "code",
      "source": [
        "pip install kafka-python\n",
        "conda install -c conda-forge kafka-python"
      ],
      "metadata": {
        "id": "4hTMged1b9d-"
      },
      "execution_count": null,
      "outputs": []
    },
    {
      "cell_type": "code",
      "source": [
        "kafka-topics.bat --create --zookeeper localhost:2181 --replication-factor 1 --partitions 1 --topic numtest"
      ],
      "metadata": {
        "id": "nKbA8BbXb-ae"
      },
      "execution_count": null,
      "outputs": []
    },
    {
      "cell_type": "code",
      "execution_count": null,
      "metadata": {
        "id": "M8SgSquHbkTg"
      },
      "outputs": [],
      "source": [
        "r = requests.get('https://reqres.in/api/users') \n",
        "x = r.json() \n",
        "df = pandas.DataFrame(x['data']) \n",
        " \n",
        "# Add TAG__ prefix to column email to use this column as a tag (index).  \n",
        "df = df.rename(columns={\"email\": \"TAG__email\"}) \n",
        " \n",
        "# Write data frame to output topic.  \n",
        "print(\"Writing data\") \n",
        "stream.parameters.write(df) \n",
        "# note: setting up stream is ommitted for abbreviation"
      ]
    },
    {
      "cell_type": "code",
      "source": [
        "output_df = pandas.DataFrame()\n",
        "output_df[\"time\"] = df[\"time\"]\n",
        "output_df[\"IsCharles\"] = df.apply(lambda row: \"True\" if row.first_name == \"Charles\" else \"False\", axis=1)"
      ],
      "metadata": {
        "id": "1DI6xboIbrwd"
      },
      "execution_count": null,
      "outputs": []
    }
  ]
}